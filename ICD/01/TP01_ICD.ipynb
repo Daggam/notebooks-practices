{
  "nbformat": 4,
  "nbformat_minor": 0,
  "metadata": {
    "colab": {
      "provenance": [],
      "collapsed_sections": [
        "MyVnUXVgUSo0",
        "3icKnmZfYV_0",
        "FKPAjzRpoYX3",
        "naOG_0P2ujh_",
        "DF_ohUXLu_rn"
      ]
    },
    "kernelspec": {
      "name": "python3",
      "display_name": "Python 3"
    },
    "language_info": {
      "name": "python"
    }
  },
  "cells": [
    {
      "cell_type": "markdown",
      "source": [
        "## Adquisición, Preprocesamiento y análisis de datos."
      ],
      "metadata": {
        "id": "FQld6SLA1f1W"
      }
    },
    {
      "cell_type": "code",
      "execution_count": null,
      "metadata": {
        "id": "Wvg1QPztJ05N"
      },
      "outputs": [],
      "source": [
        "import pandas as pd\n",
        "import numpy as np\n",
        "import os\n",
        "from datetime import datetime\n",
        "import matplotlib.pyplot as plt"
      ]
    },
    {
      "cell_type": "code",
      "source": [
        "def load_data() -> pd.DataFrame:\n",
        "  path = \"/content/drive/MyDrive/FACULTAD/Introducción a la ciencia de datos/TP1/data_to_analyze.txt\"\n",
        "  df = pd.read_csv(path)\n",
        "  df2 = df.loc[:,\"yy\":\"time\"].astype(str)\n",
        "  df[\"datetime\"] = pd.to_datetime(df2.agg(\"-\".join,axis=1),format=\"%Y-%m-%d-%H:%M\")\n",
        "  df = df.drop(columns=[\"yy\",\"mm\",\"dd\",\"time\"])\n",
        "  return df[[\"datetime\",\"data\"]]"
      ],
      "metadata": {
        "id": "UZWR1SdnOWw6"
      },
      "execution_count": null,
      "outputs": []
    },
    {
      "cell_type": "code",
      "source": [
        "df = load_data()\n",
        "print(df.head())"
      ],
      "metadata": {
        "colab": {
          "base_uri": "https://localhost:8080/"
        },
        "id": "FP_wENdHNUCR",
        "outputId": "9ef0ee59-6bc0-484b-a3a6-38d955e09c64"
      },
      "execution_count": null,
      "outputs": [
        {
          "output_type": "stream",
          "name": "stdout",
          "text": [
            "             datetime  data\n",
            "0 2021-01-01 00:00:00   7.3\n",
            "1 2021-01-01 00:10:00   7.5\n",
            "2 2021-01-01 00:50:00   6.9\n",
            "3 2021-01-01 01:00:00   6.4\n",
            "4 2021-01-01 01:10:00   6.0\n"
          ]
        }
      ]
    },
    {
      "cell_type": "markdown",
      "source": [
        "Columnas que posee el set de datos"
      ],
      "metadata": {
        "id": "xdy1j-n2gFPP"
      }
    },
    {
      "cell_type": "code",
      "source": [
        "print(df.columns)"
      ],
      "metadata": {
        "colab": {
          "base_uri": "https://localhost:8080/"
        },
        "id": "hBqUjrYsf-tL",
        "outputId": "5183ae8e-4cb2-4c47-e912-68d88966433a"
      },
      "execution_count": null,
      "outputs": [
        {
          "output_type": "stream",
          "name": "stdout",
          "text": [
            "Index(['datetime', 'data'], dtype='object')\n"
          ]
        }
      ]
    },
    {
      "cell_type": "markdown",
      "source": [
        "Tipo de dato y dominio de cada columna."
      ],
      "metadata": {
        "id": "NchqG4NUgR2v"
      }
    },
    {
      "cell_type": "code",
      "source": [
        "print(df.info())"
      ],
      "metadata": {
        "colab": {
          "base_uri": "https://localhost:8080/"
        },
        "id": "tw315dfRgRZH",
        "outputId": "2e6d9491-456c-4707-fdcd-ebf04b59b0d7"
      },
      "execution_count": null,
      "outputs": [
        {
          "output_type": "stream",
          "name": "stdout",
          "text": [
            "<class 'pandas.core.frame.DataFrame'>\n",
            "RangeIndex: 4391 entries, 0 to 4390\n",
            "Data columns (total 2 columns):\n",
            " #   Column    Non-Null Count  Dtype         \n",
            "---  ------    --------------  -----         \n",
            " 0   datetime  4391 non-null   datetime64[ns]\n",
            " 1   data      3144 non-null   float64       \n",
            "dtypes: datetime64[ns](1), float64(1)\n",
            "memory usage: 68.7 KB\n",
            "None\n"
          ]
        }
      ]
    },
    {
      "cell_type": "markdown",
      "source": [
        "Determinar: máximo valor, mínimo valor, media, mediana, moda, cantidad de\n",
        "datos, desviación estándar."
      ],
      "metadata": {
        "id": "l6lubrqQgigx"
      }
    },
    {
      "cell_type": "code",
      "source": [
        "data = df[\"data\"]\n",
        "minimo,maximo,media,mediana,moda,cantidad,std = (data.min(),data.max(),data.mean(),data.median(),data.mode(),df.shape[0],data.std())"
      ],
      "metadata": {
        "id": "wX79gYC6giO4"
      },
      "execution_count": null,
      "outputs": []
    },
    {
      "cell_type": "markdown",
      "source": [
        "¿Qué resolución poseen los datos? ¿Cuántos datos diarios se posee (en\n",
        "teoría)? ¿Existen períodos donde la resolución varía?\n",
        "\n",
        "Resolución de los datos: 10 mins.\n",
        "\n",
        "Datos diarios (teoricos):\n",
        "  - 6 datos por hora. (10 mins. 0-50)\n",
        "  - 24 horas por día * 6 datos por hora = 144 datos por día.\n",
        "\n",
        "  ¿Varía la resolución?: Sí, existen periodos donde varía."
      ],
      "metadata": {
        "id": "kmOfqOX2fJYQ"
      }
    },
    {
      "cell_type": "code",
      "source": [
        "##DATOS_TEORICOS_POR_DIA = 144\n",
        "\n",
        "#DETERMINAR EL PORCENTAJE DE FILAS FALTANTES DADA UNA RESOLUCIÓN (10 MINS)\n",
        "#datos_capturados_por_dia = df.groupby(\"dd\")[\"time\"].count() #Cantidad de intentos de captura de datos por día\n",
        "datos_capturados_por_dia = df.groupby(df[\"datetime\"].dt.date)[\"datetime\"].count()\n",
        "porcentaje_filas_faltantes =  (1 - (datos_capturados_por_dia.sum() / (DATOS_TEORICOS_POR_DIA*31))) *100\n",
        "print(\"PORCENTAJE DE FILAS FALTANTES DADA UNA RESOLUCIÓN DE 10 MINS: \" + str(porcentaje_filas_faltantes)+\"%\")\n",
        "\n",
        "\n",
        "#DETERMINAR EL PORCENTAJE DE FILAS CON DATOS NULOS.\n",
        "filas_de_datos_nulos = df[\"data\"].isnull().sum()\n",
        "porcentaje_filas_datos_nulos = filas_de_datos_nulos / len(df) *100\n",
        "print(\"PORCENTAJE DE FILAS DE DATOS NULOS: \" + str(porcentaje_filas_datos_nulos) + \"%\")\n"
      ],
      "metadata": {
        "colab": {
          "base_uri": "https://localhost:8080/"
        },
        "id": "XHsamyZ0kIpD",
        "outputId": "f1ecddf1-ef04-422f-9b7d-1f594ab513c0"
      },
      "execution_count": null,
      "outputs": [
        {
          "output_type": "stream",
          "name": "stdout",
          "text": [
            "PORCENTAJE DE FILAS FALTANTES DADA UNA RESOLUCIÓN DE 10 MINS: 1.6353046594982046%\n",
            "PORCENTAJE DE FILAS DE DATOS NULOS: 28.398997950352996%\n"
          ]
        }
      ]
    },
    {
      "cell_type": "markdown",
      "source": [
        "Algoritmo que completa la serie de tiempo"
      ],
      "metadata": {
        "id": "NH4fPfTe14Ij"
      }
    },
    {
      "cell_type": "code",
      "source": [
        "#ALGORITMO QUE COMPLETA LA SERIE DE TIEMPO.\n",
        "rango_fechas = pd.date_range(start='2021-01-01',end='2021-02-01',freq='10min')\n",
        "df2 = pd.DataFrame({\"datetime\":rango_fechas})\n",
        "df2 = df2.drop(df2.index[-1])\n",
        "df = pd.merge(df,df2,on=\"datetime\",how=\"right\")\n"
      ],
      "metadata": {
        "id": "DmU8PpV2uKQW"
      },
      "execution_count": null,
      "outputs": []
    },
    {
      "cell_type": "markdown",
      "source": [
        "Determinación del 1er, 2do y 3er cuartil."
      ],
      "metadata": {
        "id": "3g3Zrvmp19BV"
      }
    },
    {
      "cell_type": "code",
      "source": [
        "q1,q2,q3 = df['data'].quantile([0.25,0.5,0.75])\n",
        "print(f\"CUARTIL Q1: {q1}\")\n",
        "print(f\"CUARTIL Q2: {q2}\")\n",
        "print(f\"CUARTIL Q3: {q3}\")"
      ],
      "metadata": {
        "colab": {
          "base_uri": "https://localhost:8080/"
        },
        "id": "5pM9zHvy_9xH",
        "outputId": "1c09d3d7-27b4-4ea6-a2c7-e7049ef8c34f"
      },
      "execution_count": null,
      "outputs": [
        {
          "output_type": "stream",
          "name": "stdout",
          "text": [
            "CUARTIL Q1: 5.0\n",
            "CUARTIL Q2: 6.4\n",
            "CUARTIL Q3: 8.3\n"
          ]
        }
      ]
    },
    {
      "cell_type": "markdown",
      "source": [
        "Identificación de los datos fuera de rango.\n",
        "\n",
        "Para ello, es necesario el calculo del rango intercuartil para determinar el limite superior e inferior."
      ],
      "metadata": {
        "id": "IjSNPuf82Dud"
      }
    },
    {
      "cell_type": "code",
      "source": [
        "iqr = q3-q1\n",
        "limite_superior = q3 + 1.5*iqr\n",
        "limite_inferior = q1 - 1.5*iqr\n",
        "\n",
        "\n",
        "outliers = df['data'][(df['data'] < limite_inferior) | (df['data'] > limite_superior)]\n",
        "print(f\"Datos fuera de rango: {list(outliers)}\")"
      ],
      "metadata": {
        "colab": {
          "base_uri": "https://localhost:8080/"
        },
        "id": "X36uTJHT2OkT",
        "outputId": "5f6ba942-550d-45e0-81ba-f8520d080f2f"
      },
      "execution_count": null,
      "outputs": [
        {
          "output_type": "stream",
          "name": "stdout",
          "text": [
            "Datos fuera de rango: [14.1, 14.4, 13.8]\n"
          ]
        }
      ]
    },
    {
      "cell_type": "markdown",
      "source": [
        "Histograma de los datos.\n",
        "\n",
        "Podríamos decir que se sigue una distribución normal."
      ],
      "metadata": {
        "id": "jZv9CS1T2TL4"
      }
    },
    {
      "cell_type": "code",
      "source": [
        "plt.hist(df['data'],bins=25)\n",
        "plt.xlabel(\"Datos\")\n",
        "plt.ylabel(\"Frecuencia\")\n",
        "plt.show()"
      ],
      "metadata": {
        "colab": {
          "base_uri": "https://localhost:8080/",
          "height": 449
        },
        "id": "SBWaPyBNB4M5",
        "outputId": "21755da5-1b8f-4c0f-84c8-9746363bf729"
      },
      "execution_count": null,
      "outputs": [
        {
          "output_type": "display_data",
          "data": {
            "text/plain": [
              "<Figure size 640x480 with 1 Axes>"
            ],
            "image/png": "[encoded data removed]"
          },
          "metadata": {}
        }
      ]
    },
    {
      "cell_type": "markdown",
      "source": [
        "Gráfico de los datos."
      ],
      "metadata": {
        "id": "ctSke_JT2gud"
      }
    },
    {
      "cell_type": "code",
      "source": [
        "print(pd.to_datetime(df[\"datetime\"])[0].timestamp())\n",
        "print(df[\"datetime\"].apply(datetime.timestamp).astype(\"int64\"))\n",
        "print(type(df[\"datetime\"].dt.date ))\n"
      ],
      "metadata": {
        "colab": {
          "base_uri": "https://localhost:8080/"
        },
        "id": "SsqxTKQwAehx",
        "outputId": "195977f9-74ef-465b-e1b8-2469b83ef6aa"
      },
      "execution_count": null,
      "outputs": [
        {
          "output_type": "stream",
          "name": "stdout",
          "text": [
            "1609459200.0\n",
            "0       1609459200\n",
            "1       1609459800\n",
            "2       1609460400\n",
            "3       1609461000\n",
            "4       1609461600\n",
            "           ...    \n",
            "4459    1612134600\n",
            "4460    1612135200\n",
            "4461    1612135800\n",
            "4462    1612136400\n",
            "4463    1612137000\n",
            "Name: datetime, Length: 4464, dtype: int64\n",
            "<class 'pandas.core.series.Series'>\n"
          ]
        }
      ]
    },
    {
      "cell_type": "code",
      "source": [
        "data = df[df[\"data\"].notna()][\"data\"]\n",
        "plt.boxplot(data)\n",
        "plt.show()"
      ],
      "metadata": {
        "colab": {
          "base_uri": "https://localhost:8080/",
          "height": 430
        },
        "id": "y7MgAtaY9CuO",
        "outputId": "6f72c604-cfdc-442d-d54f-5e318ff14378"
      },
      "execution_count": null,
      "outputs": [
        {
          "output_type": "display_data",
          "data": {
            "text/plain": [
              "<Figure size 640x480 with 1 Axes>"
            ],
            "image/png": "[encoded data removed]"
          },
          "metadata": {}
        }
      ]
    },
    {
      "cell_type": "markdown",
      "source": [
        "Generar una columna extra que tenga como dato la media de los 5 días pasados"
      ],
      "metadata": {
        "id": "nimDzSU5JX6C"
      }
    },
    {
      "cell_type": "code",
      "source": [
        "df_mlfv = df.copy()\n",
        "df_real = pd.DataFrame()\n",
        "#lo hice mal.\n",
        "df_gb = df_mlfv.groupby(df_mlfv[\"datetime\"].dt.date)[\"data\"]\n",
        "df_gb_sum = df_gb.sum().reset_index()\n",
        "df_gb_count = df_gb.count().reset_index()\n",
        "\n",
        "for i in range(4,31):\n",
        "    df_real.loc[i,\"mean_last_five_days\"] = df_gb_sum.loc[i-4:i,\"data\"].sum() / df_gb_count.loc[i-4:i,\"data\"].sum() #CALCULO DE LA MEDIA\n",
        "    df_real.loc[i,\"datetime\"] = df_gb_sum.loc[i,\"datetime\"]\n",
        "df_real[\"datetime\"] = pd.to_datetime(df_real[\"datetime\"])\n",
        "df_mlfv =pd.merge(df_mlfv,df_real,on=\"datetime\",how=\"left\")\n",
        "\n",
        "#print(df_mlfv[df_mlfv[\"datetime\"] == '2021-01-05'])\n",
        "print(df_mlfv)"
      ],
      "metadata": {
        "colab": {
          "base_uri": "https://localhost:8080/"
        },
        "id": "YXqgoqCVC1Rt",
        "outputId": "7ca1fa65-21ba-46ba-9e61-153208c00b25"
      },
      "execution_count": null,
      "outputs": [
        {
          "output_type": "stream",
          "name": "stdout",
          "text": [
            "                datetime  data  mean_last_five_days\n",
            "0    2021-01-01 00:00:00   7.3                  NaN\n",
            "1    2021-01-01 00:10:00   7.5                  NaN\n",
            "2    2021-01-01 00:20:00   NaN                  NaN\n",
            "3    2021-01-01 00:30:00   NaN                  NaN\n",
            "4    2021-01-01 00:40:00   NaN                  NaN\n",
            "...                  ...   ...                  ...\n",
            "4459 2021-01-31 23:10:00   5.8                  NaN\n",
            "4460 2021-01-31 23:20:00   5.5                  NaN\n",
            "4461 2021-01-31 23:30:00   5.2                  NaN\n",
            "4462 2021-01-31 23:40:00   5.2                  NaN\n",
            "4463 2021-01-31 23:50:00   5.2                  NaN\n",
            "\n",
            "[4464 rows x 3 columns]\n"
          ]
        }
      ]
    },
    {
      "cell_type": "code",
      "source": [
        "X1 = df_mlfv[df_mlfv[\"data\"].notna()][\"data\"]\n",
        "X2 = df_mlfv[df_mlfv[\"mean_last_five_days\"].notna()][\"mean_last_five_days\"]\n",
        "\n",
        "fig,axes = plt.subplots(1,2,figsize=(8,6))\n",
        "axes[0].boxplot(X1)\n",
        "axes[0].set_title(\"Data\")\n",
        "axes[1].boxplot(X2)\n",
        "axes[1].set_title(\"Mean last five days\")\n",
        "plt.show()"
      ],
      "metadata": {
        "colab": {
          "base_uri": "https://localhost:8080/",
          "height": 487
        },
        "id": "28m1XsqhuW_P",
        "outputId": "ec6e1a3f-a50a-4e69-f38f-22d18a9ba1b3"
      },
      "execution_count": null,
      "outputs": [
        {
          "output_type": "display_data",
          "data": {
            "text/plain": [
              "<Figure size 800x600 with 2 Axes>"
            ],
            "image/png": "[encoded data removed]"
          },
          "metadata": {}
        }
      ]
    },
    {
      "cell_type": "markdown",
      "source": [
        "## Análisis de componentes principales. (PCA)"
      ],
      "metadata": {
        "id": "eLcNVEvq1tC4"
      }
    },
    {
      "cell_type": "markdown",
      "source": [
        "a) Crear un set de datos, gráficar y analizar."
      ],
      "metadata": {
        "id": "jPSKeSWK3AIm"
      }
    },
    {
      "cell_type": "code",
      "source": [
        "rng = np.random.default_rng()\n",
        "\n",
        "x = rng.uniform(0,100,100)\n",
        "y = rng.uniform(0,20,100)\n",
        "\n",
        "plt.scatter(x,y)\n",
        "plt.title(\"Gráfico X vs Y\")\n",
        "plt.xlabel(\"x\")\n",
        "plt.ylabel(\"y\")\n",
        "plt.show()"
      ],
      "metadata": {
        "colab": {
          "base_uri": "https://localhost:8080/",
          "height": 472
        },
        "id": "BmOyEsRc3K7c",
        "outputId": "b5fe7f24-4033-4bf3-86d9-492abaedcd4d"
      },
      "execution_count": null,
      "outputs": [
        {
          "output_type": "display_data",
          "data": {
            "text/plain": [
              "<Figure size 640x480 with 1 Axes>"
            ],
            "image/png": "[encoded data removed]"
          },
          "metadata": {}
        }
      ]
    },
    {
      "cell_type": "markdown",
      "source": [
        "Cálculo del coeficiente de correlación de Pearson."
      ],
      "metadata": {
        "id": "PKqStxCKEAth"
      }
    },
    {
      "cell_type": "code",
      "source": [
        "X = pd.DataFrame({'X':x,'Y':y})\n",
        "\n",
        "corr = np.corrcoef(X.T)\n",
        "print(corr)\n",
        "\n",
        "plt.imshow(corr,cmap='coolwarm')\n",
        "plt.colorbar()\n",
        "plt.title(\"Matriz de correlación\")\n",
        "plt.xticks([0,1],[\"X\",\"Y\"])\n",
        "plt.yticks([0,1],[\"X\",\"Y\"])\n",
        "for i in range(2):\n",
        "  for j in range(2):\n",
        "    plt.text(j,i,format(corr[i,j],\".2f\"),ha=\"center\",va=\"center\",color=\"w\")\n",
        "\n",
        "plt.show()"
      ],
      "metadata": {
        "colab": {
          "base_uri": "https://localhost:8080/",
          "height": 488
        },
        "id": "YcH5G4QaEcr0",
        "outputId": "e35afd9b-c04c-4698-ceea-501c9bd1b698"
      },
      "execution_count": null,
      "outputs": [
        {
          "output_type": "stream",
          "name": "stdout",
          "text": [
            "[[1.         0.10288914]\n",
            " [0.10288914 1.        ]]\n"
          ]
        },
        {
          "output_type": "display_data",
          "data": {
            "text/plain": [
              "<Figure size 640x480 with 2 Axes>"
            ],
            "image/png": "[encoded data removed]"
          },
          "metadata": {}
        }
      ]
    },
    {
      "cell_type": "markdown",
      "source": [
        "**¿Cuál es la diferencia entre varianza y desviación estándar?**\n",
        "\n",
        "Tenemos tanto la varianza muestral como la poblacional. Utilizaremos la muestral.\n",
        "\n",
        "Definición de varianza muestral:\n",
        "\n",
        "$$\n",
        "S_x^{2} = \\frac {\\sum_{i=1}^{n} (x_i-\\bar{x})^{2}}{n-1}\n",
        "$$\n",
        "\n",
        "\n",
        "Definición de desviación estándar:\n",
        "\n",
        "$$\n",
        "S_x = \\sqrt{S^{2}} = \\sqrt{\\frac {\\sum_{i=1}^{n} (x_i-\\bar{x})^{2}}{n-1}}\n",
        "$$\n",
        "\n",
        "Ambas medidas representan dispersión. La diferencia está en que la varianza lo representa en unidades al cuadrado (el motivo de esto se debe para que la suma no tenga terminos negativos que cancelen a otros), mientras que la desviación estándar lo hace en las unidades reales, por lo que es más interpretativa."
      ],
      "metadata": {
        "id": "P2PS-XlpLIYo"
      }
    },
    {
      "cell_type": "markdown",
      "source": [
        "### Aplicación de PCA"
      ],
      "metadata": {
        "id": "rbUzwfK3SdEg"
      }
    },
    {
      "cell_type": "markdown",
      "source": [
        "### Q&A"
      ],
      "metadata": {
        "id": "na8GULMfUOor"
      }
    },
    {
      "cell_type": "markdown",
      "source": [
        "#### ¿Por qué es importante estandarizar las variables antes de aplicar PCA?"
      ],
      "metadata": {
        "id": "MyVnUXVgUSo0"
      }
    },
    {
      "cell_type": "markdown",
      "source": [
        "Esto es debido a la naturaleza de las variables. Pueden estar medidas en escalas diferentes y sus valores numericos prevalecerian por encima de las demás.\n",
        "\n",
        "Eso trae como consecuencia una dominación por parte de los grandes valores. (Modelos basados en distancias, lineales)\n",
        "\n",
        "Al estandarizar, las variables se centran y escalan según su dispersión. (utilizando el Z-score scaling)\n",
        "\n",
        "$$ s_{stand} = \\frac{x - \\bar{x}}{\\sigma_x}$$"
      ],
      "metadata": {
        "id": "ougygWhEUcmu"
      }
    },
    {
      "cell_type": "markdown",
      "source": [
        "#### ¿Qué representa un valor propio grande en el contexto de PCA?"
      ],
      "metadata": {
        "id": "3icKnmZfYV_0"
      }
    },
    {
      "cell_type": "markdown",
      "source": [
        "Representa la cantidad de información que puede capturar el vector propio generado por ese valor."
      ],
      "metadata": {
        "id": "E9f78r6xYgHm"
      }
    },
    {
      "cell_type": "markdown",
      "source": [
        "#### Explicar la relación entre autovectores y dirección de máxima varianza."
      ],
      "metadata": {
        "id": "FKPAjzRpoYX3"
      }
    },
    {
      "cell_type": "markdown",
      "source": [
        "Los autovectores, mejor conocidos como vectores propios, son aquellos vectores particulares de un espacio vectorial que al aplicarle una transformación lineal, la deformación que sufren es solo de escalamiento. Es decir, solo se estiran o se encogen.\n",
        "\n",
        "Están dados por la siguiente ecuación:\n",
        "\n",
        "$$ Av = λv $$\n",
        "\n",
        "donde $λ$ es un valor propio y $v$ es un autovector.\n",
        "\n",
        "En este caso particular que estamos analizando, queremos reducir la dimensionalidad de nuestro conjunto de caracteristicas sin perder una cantidad significativa de información.\n",
        "\n",
        "Para lograr esto, tomamos nuestra matriz de covarianza y con ella obtenemos los autovectores con sus respectivos valores propios.\n",
        "\n",
        "Aquel vector propio cuyo eigenvalor es el mayor, tendrá la dirección de la máxima varianza.\n",
        "\n",
        "(También estos vectores propios se pueden ver como los ejes donde se proyectan los datos)"
      ],
      "metadata": {
        "id": "7076vu1Nol5D"
      }
    },
    {
      "cell_type": "markdown",
      "source": [
        "#### Dado un conjunto de datos con “n” variables, ¿cuántos componentes principales como máximo puede tener PCA?"
      ],
      "metadata": {
        "id": "naOG_0P2ujh_"
      }
    },
    {
      "cell_type": "markdown",
      "source": [
        "Puedo tener un máximo de n componentes principales."
      ],
      "metadata": {
        "id": "FDTvvqsXu1Lc"
      }
    },
    {
      "cell_type": "markdown",
      "source": [
        "#### ¿Qué dimensión tendrán los componentes principales?"
      ],
      "metadata": {
        "id": "DF_ohUXLu_rn"
      }
    },
    {
      "cell_type": "markdown",
      "source": [
        "Tendrán una dimensión menor a la anterior.\n",
        "\n",
        "En nuestro caso como tenemos 2 caracteristicas, la estariamos reduciendo a 1."
      ],
      "metadata": {
        "id": "BoDHZKw9vL_c"
      }
    },
    {
      "cell_type": "markdown",
      "source": [
        "#### Definir varianza explicada y la proporción de varianza explicada."
      ],
      "metadata": {
        "id": "ehZ8tTxkv6tv"
      }
    },
    {
      "cell_type": "markdown",
      "source": [
        "La varianza explicada es una parte de la varianza total que mis nuevas componentes pueden explicar.\n",
        "\n",
        "$$Var_{explicada} = \\frac{1}{\\sum_{i=1}^{n}\\lambda_{i}} v$$\n",
        "\n",
        "Cada componente explica una cantidad especifica de la varianza total de los datos, por lo que la varianza explicada nos dice cuanto de la información original captura esa componente.\n",
        "\n"
      ],
      "metadata": {
        "id": "54uApHNUwDsn"
      }
    },
    {
      "cell_type": "markdown",
      "source": [
        "#### Cuáles y cuántos componentes principales seleccionaría para la obtención de la matriz proyección (nueva matriz de datos)? Mostrar la matriz proyección obtenida."
      ],
      "metadata": {
        "id": "cnoc_3Gzw398"
      }
    },
    {
      "cell_type": "markdown",
      "source": [
        "Lo contesto en la aplicación PCA"
      ],
      "metadata": {
        "id": "nNswGBkTxbuO"
      }
    },
    {
      "cell_type": "markdown",
      "source": [
        "#### En un conjunto de dos variables altamente correlacionadas, ¿Esperaría que la primera componente principal explique la mayor parte de la varianza? Explicar."
      ],
      "metadata": {
        "id": "cu6PBWUSx3oa"
      }
    },
    {
      "cell_type": "markdown",
      "source": [
        "Que sean altamente correlacionadas, implica que la covarianza o es positiva o negativa.\n",
        "Por lo que una de las dos componentes podrían explicar la mayoria de esa varianza, pero no necesariamente la primera."
      ],
      "metadata": {
        "id": "Bder8-u9x90j"
      }
    },
    {
      "cell_type": "markdown",
      "source": [
        "### Aplicación PCA"
      ],
      "metadata": {
        "id": "MoN6YJOtYRph"
      }
    },
    {
      "cell_type": "markdown",
      "source": [
        "Estandarizamos los datos."
      ],
      "metadata": {
        "id": "KpgDL6P9SjGF"
      }
    },
    {
      "cell_type": "code",
      "source": [
        "medias = X.mean()\n",
        "Xc = X - medias\n",
        "X_stan = Xc / X.std()\n",
        "print(\"Medias: \", medias.to_numpy())\n",
        "#print(\"Datos centrados:\\n\", Xc.to_numpy())\n"
      ],
      "metadata": {
        "colab": {
          "base_uri": "https://localhost:8080/"
        },
        "id": "SYYzGR5TPdiA",
        "outputId": "5b3e4ae7-83f6-43bd-cd1c-4e8924680c3d"
      },
      "execution_count": null,
      "outputs": [
        {
          "output_type": "stream",
          "name": "stdout",
          "text": [
            "Medias:  [46.74121784  9.98933354]\n"
          ]
        }
      ]
    },
    {
      "cell_type": "markdown",
      "source": [
        "Cálculo de la matriz de covarianza"
      ],
      "metadata": {
        "id": "BFAHzZ775KY-"
      }
    },
    {
      "cell_type": "code",
      "source": [
        "cov = np.cov(X_stan,rowvar=False)\n",
        "print(cov)\n",
        "\n",
        "plt.imshow(cov,cmap='coolwarm')\n",
        "plt.colorbar()\n",
        "plt.title(\"Matriz de covarianza\")\n",
        "plt.xticks([0,1],[\"X\",\"Y\"])\n",
        "plt.yticks([0,1],[\"X\",\"Y\"])\n",
        "for i in range(2):\n",
        "  for j in range(2):\n",
        "    plt.text(j,i,format(cov[i,j],\".2f\"),ha=\"center\",va=\"center\",color=\"w\")\n",
        "plt.show()"
      ],
      "metadata": {
        "colab": {
          "base_uri": "https://localhost:8080/",
          "height": 488
        },
        "id": "QGMiquZE5IaW",
        "outputId": "d950b801-341d-498d-b53e-6c48ea73650c"
      },
      "execution_count": null,
      "outputs": [
        {
          "output_type": "stream",
          "name": "stdout",
          "text": [
            "[[1.         0.10288914]\n",
            " [0.10288914 1.        ]]\n"
          ]
        },
        {
          "output_type": "display_data",
          "data": {
            "text/plain": [
              "<Figure size 640x480 with 2 Axes>"
            ],
            "image/png": "[encoded data removed]"
          },
          "metadata": {}
        }
      ]
    },
    {
      "cell_type": "markdown",
      "source": [
        "Calculo del determinante y ceros de la ecuación caracteristica $λ^{2}-(a+d)λ+(ad-bc) = 0$"
      ],
      "metadata": {
        "id": "T5koE5Y856vu"
      }
    },
    {
      "cell_type": "code",
      "source": [
        "a,b,c,d = cov.flatten()\n",
        "coef = [1,-(a+d),a*d - b*c]\n",
        "print(\"Coeficientes:\",coef)\n",
        "\n",
        "lambdas = np.roots(coef)\n",
        "print(\"Valores propios: \", lambdas)\n"
      ],
      "metadata": {
        "colab": {
          "base_uri": "https://localhost:8080/"
        },
        "id": "53TLiuyX7NGq",
        "outputId": "fbc5a3a8-57e5-44e0-8cb1-31d57f296e40"
      },
      "execution_count": null,
      "outputs": [
        {
          "output_type": "stream",
          "name": "stdout",
          "text": [
            "Coeficientes: [1, np.float64(-1.9999999999999993), np.float64(0.9894138242401223)]\n",
            "Valores propios:  [1.10288914 0.89711086]\n"
          ]
        }
      ]
    },
    {
      "cell_type": "markdown",
      "source": [
        "Obtención de los vectores propios."
      ],
      "metadata": {
        "id": "8lwbS_JU9Lhu"
      }
    },
    {
      "cell_type": "code",
      "source": [
        "eigvals,eigvecs = np.linalg.eig(cov)\n",
        "print(\"Valores propios: \",eigvals) #Otra manera de obtener los valores propios.\n",
        "print(\"Vectores propios: \",eigvecs)"
      ],
      "metadata": {
        "colab": {
          "base_uri": "https://localhost:8080/"
        },
        "id": "T0ZuqVMH9VKo",
        "outputId": "6b3e4e1a-7f13-4ac5-8d61-43b2c7f37d0e"
      },
      "execution_count": null,
      "outputs": [
        {
          "output_type": "stream",
          "name": "stdout",
          "text": [
            "Valores propios:  [0.89711086 1.10288914]\n",
            "Vectores propios:  [[-0.70710678 -0.70710678]\n",
            " [ 0.70710678 -0.70710678]]\n"
          ]
        }
      ]
    },
    {
      "cell_type": "markdown",
      "source": [
        "Gráfica de los vectores propios y proyección de los datos."
      ],
      "metadata": {
        "id": "YavJwUnCBOI9"
      }
    },
    {
      "cell_type": "code",
      "source": [
        "plt.scatter(X_stan['X'],X_stan['Y'])\n",
        "plt.quiver(0,0,\n",
        "           eigvecs[0,0]/abs(eigvecs[0,0])*eigvals[0],\n",
        "           eigvecs[0,1]/abs(eigvecs[0,1])*eigvals[0],\n",
        "           color=\"blue\")\n",
        "plt.quiver(0,0,\n",
        "           eigvecs[1,0]/abs(eigvecs[1,0])*eigvals[1],\n",
        "           eigvecs[1,1]/abs(eigvecs[1,1])*eigvals[1],\n",
        "           color=\"red\")\n",
        "plt.show()\n"
      ],
      "metadata": {
        "colab": {
          "base_uri": "https://localhost:8080/",
          "height": 466
        },
        "id": "dKH78CPXBR0u",
        "outputId": "750b5977-e911-4ac6-d0a8-480b72b566e8"
      },
      "execution_count": null,
      "outputs": [
        {
          "output_type": "display_data",
          "data": {
            "text/plain": [
              "<Figure size 640x480 with 1 Axes>"
            ],
            "image/png": "[encoded data removed]"
          },
          "metadata": {}
        },
        {
          "output_type": "stream",
          "name": "stdout",
          "text": [
            "[[-0.70710678 -0.70710678]\n",
            " [ 0.70710678 -0.70710678]]\n"
          ]
        }
      ]
    },
    {
      "cell_type": "code",
      "source": [
        "datos_proyectados = X_stan @ eigvecs.T\n",
        "datos_proyectados = datos_proyectados.rename(columns={0:\"X\",1:\"Y\"})\n",
        "#print([-3]*len(datos_proyectados['X']))\n",
        "#print(datos_proyectados)\n",
        "\n",
        "plt.scatter(datos_proyectados[\"X\"],datos_proyectados[\"Y\"])\n",
        "plt.scatter(datos_proyectados[\"X\"],[-3]*len(datos_proyectados[\"X\"]),\n",
        "            color=\"red\",alpha=0.5)\n",
        "plt.scatter([-3]*len(datos_proyectados[\"Y\"]),datos_proyectados[\"Y\"],\n",
        "            color=\"blue\",alpha=0.5)\n",
        "plt.show()"
      ],
      "metadata": {
        "colab": {
          "base_uri": "https://localhost:8080/",
          "height": 430
        },
        "id": "47Do74q1EfQZ",
        "outputId": "40469330-2ddb-4cbe-af98-483268cb6431"
      },
      "execution_count": null,
      "outputs": [
        {
          "output_type": "display_data",
          "data": {
            "text/plain": [
              "<Figure size 640x480 with 1 Axes>"
            ],
            "image/png": "[encoded data removed]"
          },
          "metadata": {}
        }
      ]
    },
    {
      "cell_type": "markdown",
      "source": [
        "### Punto b."
      ],
      "metadata": {
        "id": "6vZXgZE-IG3g"
      }
    },
    {
      "cell_type": "code",
      "source": [
        "from sklearn.datasets import fetch_california_housing\n",
        "\n",
        "data_house = fetch_california_housing()\n",
        "print(\"Caracteristicas: \", data_house.feature_names)\n",
        "print(\"Variable objetivo: \",data_house.target_names)"
      ],
      "metadata": {
        "colab": {
          "base_uri": "https://localhost:8080/"
        },
        "id": "qgsrjfyeIMSF",
        "outputId": "83c993b4-aaae-4bef-bb57-89aeec216e5b"
      },
      "execution_count": null,
      "outputs": [
        {
          "output_type": "stream",
          "name": "stdout",
          "text": [
            "Caracteristicas:  ['MedInc', 'HouseAge', 'AveRooms', 'AveBedrms', 'Population', 'AveOccup', 'Latitude', 'Longitude']\n",
            "Variable objetivo:  ['MedHouseVal']\n"
          ]
        }
      ]
    },
    {
      "cell_type": "markdown",
      "source": [
        "Datos originales (SIN PCA)"
      ],
      "metadata": {
        "id": "Elg_ZJmFJwTJ"
      }
    },
    {
      "cell_type": "code",
      "source": [
        "features = data_house.feature_names\n",
        "\n",
        "X = pd.DataFrame(data_house.data,columns=features)\n",
        "y = pd.DataFrame(data_house.target,columns=data_house.target_names)\n",
        "print(\"Datos originales:\\n\",X.head())\n",
        "print(\"Datos objetivo:\\n\",y.head())\n",
        "print(\"Información de los datos:\\n\",X.info(),X.describe())\n"
      ],
      "metadata": {
        "colab": {
          "base_uri": "https://localhost:8080/"
        },
        "id": "4UqQX6ohJ_Uu",
        "outputId": "9850c49c-d691-4cc2-d289-794384437271"
      },
      "execution_count": null,
      "outputs": [
        {
          "output_type": "stream",
          "name": "stdout",
          "text": [
            "Datos originales:\n",
            "    MedInc  HouseAge  AveRooms  AveBedrms  Population  AveOccup  Latitude  \\\n",
            "0  8.3252      41.0  6.984127   1.023810       322.0  2.555556     37.88   \n",
            "1  8.3014      21.0  6.238137   0.971880      2401.0  2.109842     37.86   \n",
            "2  7.2574      52.0  8.288136   1.073446       496.0  2.802260     37.85   \n",
            "3  5.6431      52.0  5.817352   1.073059       558.0  2.547945     37.85   \n",
            "4  3.8462      52.0  6.281853   1.081081       565.0  2.181467     37.85   \n",
            "\n",
            "   Longitude  \n",
            "0    -122.23  \n",
            "1    -122.22  \n",
            "2    -122.24  \n",
            "3    -122.25  \n",
            "4    -122.25  \n",
            "Datos objetivo:\n",
            "    MedHouseVal\n",
            "0        4.526\n",
            "1        3.585\n",
            "2        3.521\n",
            "3        3.413\n",
            "4        3.422\n",
            "<class 'pandas.core.frame.DataFrame'>\n",
            "RangeIndex: 20640 entries, 0 to 20639\n",
            "Data columns (total 8 columns):\n",
            " #   Column      Non-Null Count  Dtype  \n",
            "---  ------      --------------  -----  \n",
            " 0   MedInc      20640 non-null  float64\n",
            " 1   HouseAge    20640 non-null  float64\n",
            " 2   AveRooms    20640 non-null  float64\n",
            " 3   AveBedrms   20640 non-null  float64\n",
            " 4   Population  20640 non-null  float64\n",
            " 5   AveOccup    20640 non-null  float64\n",
            " 6   Latitude    20640 non-null  float64\n",
            " 7   Longitude   20640 non-null  float64\n",
            "dtypes: float64(8)\n",
            "memory usage: 1.3 MB\n",
            "Información de los datos:\n",
            " None              MedInc      HouseAge      AveRooms     AveBedrms    Population  \\\n",
            "count  20640.000000  20640.000000  20640.000000  20640.000000  20640.000000   \n",
            "mean       3.870671     28.639486      5.429000      1.096675   1425.476744   \n",
            "std        1.899822     12.585558      2.474173      0.473911   1132.462122   \n",
            "min        0.499900      1.000000      0.846154      0.333333      3.000000   \n",
            "25%        2.563400     18.000000      4.440716      1.006079    787.000000   \n",
            "50%        3.534800     29.000000      5.229129      1.048780   1166.000000   \n",
            "75%        4.743250     37.000000      6.052381      1.099526   1725.000000   \n",
            "max       15.000100     52.000000    141.909091     34.066667  35682.000000   \n",
            "\n",
            "           AveOccup      Latitude     Longitude  \n",
            "count  20640.000000  20640.000000  20640.000000  \n",
            "mean       3.070655     35.631861   -119.569704  \n",
            "std       10.386050      2.135952      2.003532  \n",
            "min        0.692308     32.540000   -124.350000  \n",
            "25%        2.429741     33.930000   -121.800000  \n",
            "50%        2.818116     34.260000   -118.490000  \n",
            "75%        3.282261     37.710000   -118.010000  \n",
            "max     1243.333333     41.950000   -114.310000  \n"
          ]
        }
      ]
    },
    {
      "cell_type": "markdown",
      "source": [
        "Estandarizamos los datos y los spliteamos.\n",
        "¿Estará bien esto?"
      ],
      "metadata": {
        "id": "TlPWy2eqPTuS"
      }
    },
    {
      "cell_type": "code",
      "source": [
        "from sklearn.model_selection import train_test_split\n",
        "from sklearn.preprocessing import StandardScaler\n",
        "\n",
        "scaler = StandardScaler()\n",
        "X_scaled = scaler.fit_transform(X)\n",
        "y_scaled = scaler.fit_transform(y)\n",
        "\n",
        "train_X,val_X,train_y,val_y = train_test_split(X_scaled,y_scaled)\n"
      ],
      "metadata": {
        "id": "7dUpKxi8Kyyr"
      },
      "execution_count": null,
      "outputs": []
    },
    {
      "cell_type": "markdown",
      "source": [
        "Aplicar un modelo de regresión lineal y calculamos las metricas de desempeño del modelo."
      ],
      "metadata": {
        "id": "cBVIRo4wMWYI"
      }
    },
    {
      "cell_type": "code",
      "source": [
        "from sklearn.linear_model import LinearRegression\n",
        "from sklearn.metrics import mean_absolute_error\n",
        "lin_reg = LinearRegression()\n",
        "lin_reg.fit(train_X,train_y)\n",
        "lin_reg_predictions = lin_reg.predict(val_X)\n",
        "lin_reg_mae = mean_absolute_error(val_y,lin_reg_predictions)\n",
        "\n",
        "print(f\"Validación MAE para la regresión lineal: {lin_reg_mae}\")"
      ],
      "metadata": {
        "colab": {
          "base_uri": "https://localhost:8080/"
        },
        "id": "HMad6jSCMalx",
        "outputId": "5b23b6b2-51c0-49c1-b52e-3deb6b8f1908"
      },
      "execution_count": null,
      "outputs": [
        {
          "output_type": "stream",
          "name": "stdout",
          "text": [
            "Validación MAE para la regresión lineal: 0.7905547384304148\n"
          ]
        }
      ]
    },
    {
      "cell_type": "markdown",
      "source": [
        "Aplicación del PCA."
      ],
      "metadata": {
        "id": "ZmoJfsjGPHTa"
      }
    },
    {
      "cell_type": "code",
      "source": [
        "from sklearn.decomposition import PCA\n",
        "house_pca = PCA(n_components=8)\n",
        "X_pca = house_pca.fit_transform(X_scaled)\n",
        "\n",
        "varianza_acumulada = np.cumsum(house_pca.explained_variance_ratio_)\n",
        "print(\"Varianza explicada por cada componente:\", house_pca.explained_variance_ratio_)\n",
        "print(\"varianza acumulada:\",varianza_acumulada)"
      ],
      "metadata": {
        "colab": {
          "base_uri": "https://localhost:8080/"
        },
        "id": "ccj9RPuRPK0l",
        "outputId": "cb3b69dc-a0e4-4a67-9632-d07f469d6be6"
      },
      "execution_count": null,
      "outputs": [
        {
          "output_type": "stream",
          "name": "stdout",
          "text": [
            "Varianza explicada por cada componente: [0.25336868 0.23516245 0.15888635 0.12887971 0.12538195 0.0824225\n",
            " 0.01020022 0.00569814]\n",
            "varianza acumulada: [0.25336868 0.48853113 0.64741747 0.77629718 0.90167913 0.98410164\n",
            " 0.99430186 1.        ]\n"
          ]
        }
      ]
    },
    {
      "cell_type": "markdown",
      "source": [
        "Como necesitamos el número minimo de componentes que expliquen al menos el 95% de la varianza, vamos a tomar 6 componentes."
      ],
      "metadata": {
        "id": "J91Nd2WPSWPm"
      }
    },
    {
      "cell_type": "code",
      "source": [
        "house_pca = PCA(n_components=6)\n",
        "X_pca = house_pca.fit_transform(X_scaled)\n",
        "\n",
        "print(\"Varianza explicada por cada componente:\", house_pca.explained_variance_ratio_)\n",
        "print(\"varianza acumulada:\",varianza_acumulada)"
      ],
      "metadata": {
        "colab": {
          "base_uri": "https://localhost:8080/"
        },
        "id": "UrhCU72sS6F2",
        "outputId": "8d20d916-dbfb-4658-9b51-3222ffae3162"
      },
      "execution_count": null,
      "outputs": [
        {
          "output_type": "stream",
          "name": "stdout",
          "text": [
            "Varianza explicada por cada componente: [0.25336868 0.23516245 0.15888635 0.12887971 0.12538195 0.0824225 ]\n",
            "varianza acumulada: [0.25336868 0.48853113 0.64741747 0.77629718 0.90167913 0.98410164\n",
            " 0.99430186 1.        ]\n"
          ]
        }
      ]
    },
    {
      "cell_type": "markdown",
      "source": [
        "Gráfico Scree plot de la varianza explicada acumulada."
      ],
      "metadata": {
        "id": "X_I-m6m-XkXX"
      }
    },
    {
      "cell_type": "code",
      "source": [
        "pc_values = np.arange(house_pca.n_components_) + 1\n",
        "plt.plot(pc_values,house_pca.explained_variance_ratio_,'o-')\n",
        "plt.title(\"Scree plot\")\n",
        "plt.ylabel(\"Varianza explicada\")\n",
        "plt.xlabel(\"Componente Principal\")\n",
        "plt.show()"
      ],
      "metadata": {
        "colab": {
          "base_uri": "https://localhost:8080/",
          "height": 472
        },
        "id": "O43olH0vXi3r",
        "outputId": "6004cbb2-0b5f-4b4f-99a5-2de262382957"
      },
      "execution_count": null,
      "outputs": [
        {
          "output_type": "display_data",
          "data": {
            "text/plain": [
              "<Figure size 640x480 with 1 Axes>"
            ],
            "image/png": "[encoded data removed]"
          },
          "metadata": {}
        }
      ]
    },
    {
      "cell_type": "markdown",
      "source": [
        "PROBAR EL MODELO CON LOS DATOS PROYECTADOS"
      ],
      "metadata": {
        "id": "zdqNSDHuVeS6"
      }
    },
    {
      "cell_type": "code",
      "source": [
        "train_X_pca,val_X_pca,train_y,val_y = train_test_split(X_pca,y_scaled)\n",
        "\n",
        "lin_reg_pca = LinearRegression()\n",
        "lin_reg_pca.fit(train_X_pca,train_y)\n",
        "lin_reg_pca_predictions = lin_reg_pca.predict(val_X_pca)\n",
        "lin_reg_pca_mae = mean_absolute_error(val_y,lin_reg_pca_predictions)\n",
        "\n",
        "print(f\"Validación MAE para la regresión lineal: {lin_reg_pca_mae}\")"
      ],
      "metadata": {
        "colab": {
          "base_uri": "https://localhost:8080/"
        },
        "id": "P0Q2VMzLVg3o",
        "outputId": "23e5c238-565a-40e6-bdb9-78ac39041778"
      },
      "execution_count": null,
      "outputs": [
        {
          "output_type": "stream",
          "name": "stdout",
          "text": [
            "Validación MAE para la regresión lineal: 0.5308300973030597\n"
          ]
        }
      ]
    },
    {
      "cell_type": "markdown",
      "source": [
        "La reducción de la dimensionalidad provocó un descenso del MAE, por lo que nuestro modelo ha mejorado su desempeño."
      ],
      "metadata": {
        "id": "rqgcx9IkWmKh"
      }
    }
  ]
}